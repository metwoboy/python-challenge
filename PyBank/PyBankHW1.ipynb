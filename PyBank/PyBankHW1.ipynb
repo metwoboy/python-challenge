{
 "cells": [
  {
   "cell_type": "code",
   "execution_count": 5,
   "metadata": {},
   "outputs": [
    {
     "name": "stdout",
     "output_type": "stream",
     "text": [
      "---------------------------------------------------------\n",
      "Financial Analysis\n",
      "---------------------------------------------------------\n",
      "Total Months  : 86\n",
      "Total(net P/L): $38382578\n",
      "Average Change: $-2315.12\n",
      "Greatest Increase in Profits: Feb-2012 ($1926159)\n",
      "Greatest Decrease in Profits: Sep-2013 ($-2196167)\n",
      "\n"
     ]
    }
   ],
   "source": [
    "#import modules\n",
    "import os \n",
    "import csv\n",
    "\n",
    "#Navigate to the targeted file\n",
    "csvfile = os.path.join(\"Resources\",\"budget_data.csv\")\n",
    "#output the result to a text file.\n",
    "pathout = os.path.join(\"Resources\",\"budget_analysis.txt\")\n",
    "\n",
    "#open csv file\n",
    "with open(csvfile) as file:\n",
    "    csvreader = csv.reader(file, delimiter=',')\n",
    "\n",
    "#set variables to zero.\n",
    "    total_month = 0\n",
    "    total_amount = 0\n",
    "    pre_amt = 0\n",
    "    pl_changes_dict = {}\n",
    "\n",
    "#skip column header row\n",
    "    next(csvreader)\n",
    "\n",
    "#start looping through the rows\n",
    "    for row in csvreader:\n",
    "        # loop incremental argument; total month = total month + 1\n",
    "        total_month +=1\n",
    "\n",
    "        if total_month ==1:\n",
    "            #store value of first row into pre_amt\n",
    "            pre_amt = int(row[1])\n",
    "\n",
    "        elif total_month >1:\n",
    "            changes = int(row[1]) - pre_amt\n",
    "            #store changes into a dictionary\n",
    "            pl_changes_dict.update({row[0]:changes})\n",
    "            pre_amt = int(row[1])\n",
    "\n",
    "        #net total amount of Profit/Losses\" over the entire period..\n",
    "        total_amount= total_amount + pre_amt\n",
    "    next\n",
    "\n",
    "    #cal to find average changes\n",
    "    sum_changes = sum(pl_changes_dict.values())\n",
    "    average_changes = round(sum_changes/len(pl_changes_dict),2)\n",
    "\n",
    "    #Find the max and min changes;in addition to the date\n",
    "    max_changes_dt = max(pl_changes_dict,key=pl_changes_dict.get)\n",
    "    max_changes_amt = max(pl_changes_dict.values())\n",
    "    min_changes_dt= min(pl_changes_dict,key=pl_changes_dict.get)\n",
    "    min_changes_amt = min(pl_changes_dict.values())\n",
    "\n",
    "\n",
    "    output = (\n",
    "        '---------------------------------------------------------\\n'\n",
    "        'Financial Analysis\\n'\n",
    "        '---------------------------------------------------------\\n'\n",
    "        f'Total Months  : {total_month}\\n'\n",
    "        f'Total(net P/L): ${total_amount}\\n'\n",
    "        f'Average Change: ${average_changes}\\n'\n",
    "        f'Greatest Increase in Profits: {max_changes_dt} (${max_changes_amt})\\n'\n",
    "        f'Greatest Decrease in Profits: {min_changes_dt} (${min_changes_amt})\\n'\n",
    "    )\n",
    "\n",
    "    print(output)\n",
    "\n",
    "#write to the text path\n",
    "with open(pathout,'w') as txt_file:\n",
    "    txt_file.write(output)"
   ]
  },
  {
   "cell_type": "code",
   "execution_count": null,
   "metadata": {},
   "outputs": [],
   "source": []
  }
 ],
 "metadata": {
  "kernelspec": {
   "display_name": "Python 3",
   "language": "python",
   "name": "python3"
  },
  "language_info": {
   "codemirror_mode": {
    "name": "ipython",
    "version": 3
   },
   "file_extension": ".py",
   "mimetype": "text/x-python",
   "name": "python",
   "nbconvert_exporter": "python",
   "pygments_lexer": "ipython3",
   "version": "3.6.10"
  }
 },
 "nbformat": 4,
 "nbformat_minor": 4
}
